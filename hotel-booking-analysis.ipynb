{
 "cells": [
  {
   "cell_type": "code",
   "execution_count": 1,
   "id": "acedc9da",
   "metadata": {
    "_cell_guid": "b1076dfc-b9ad-4769-8c92-a6c4dae69d19",
    "_uuid": "8f2839f25d086af736a60e9eeb907d3b93b6e0e5",
    "execution": {
     "iopub.execute_input": "2025-09-25T12:19:07.557547Z",
     "iopub.status.busy": "2025-09-25T12:19:07.557187Z",
     "iopub.status.idle": "2025-09-25T12:19:09.767236Z",
     "shell.execute_reply": "2025-09-25T12:19:09.766124Z"
    },
    "papermill": {
     "duration": 2.221548,
     "end_time": "2025-09-25T12:19:09.769306",
     "exception": false,
     "start_time": "2025-09-25T12:19:07.547758",
     "status": "completed"
    },
    "tags": []
   },
   "outputs": [],
   "source": [
    "import pandas as pd\n",
    "import numpy as np"
   ]
  },
  {
   "cell_type": "code",
   "execution_count": 2,
   "id": "7bde5e49",
   "metadata": {
    "execution": {
     "iopub.execute_input": "2025-09-25T12:19:09.786364Z",
     "iopub.status.busy": "2025-09-25T12:19:09.785908Z",
     "iopub.status.idle": "2025-09-25T12:19:10.509390Z",
     "shell.execute_reply": "2025-09-25T12:19:10.507531Z"
    },
    "papermill": {
     "duration": 0.734915,
     "end_time": "2025-09-25T12:19:10.512629",
     "exception": false,
     "start_time": "2025-09-25T12:19:09.777714",
     "status": "completed"
    },
    "tags": []
   },
   "outputs": [
    {
     "name": "stdout",
     "output_type": "stream",
     "text": [
      "<class 'pandas.core.frame.DataFrame'>\n",
      "RangeIndex: 119390 entries, 0 to 119389\n",
      "Data columns (total 32 columns):\n",
      " #   Column                          Non-Null Count   Dtype  \n",
      "---  ------                          --------------   -----  \n",
      " 0   hotel                           119390 non-null  object \n",
      " 1   is_canceled                     119390 non-null  int64  \n",
      " 2   lead_time                       119390 non-null  int64  \n",
      " 3   arrival_date_year               119390 non-null  int64  \n",
      " 4   arrival_date_month              119390 non-null  object \n",
      " 5   arrival_date_week_number        119390 non-null  int64  \n",
      " 6   arrival_date_day_of_month       119390 non-null  int64  \n",
      " 7   stays_in_weekend_nights         119390 non-null  int64  \n",
      " 8   stays_in_week_nights            119390 non-null  int64  \n",
      " 9   adults                          119390 non-null  int64  \n",
      " 10  children                        119386 non-null  float64\n",
      " 11  babies                          119390 non-null  int64  \n",
      " 12  meal                            119390 non-null  object \n",
      " 13  country                         118902 non-null  object \n",
      " 14  market_segment                  119390 non-null  object \n",
      " 15  distribution_channel            119390 non-null  object \n",
      " 16  is_repeated_guest               119390 non-null  int64  \n",
      " 17  previous_cancellations          119390 non-null  int64  \n",
      " 18  previous_bookings_not_canceled  119390 non-null  int64  \n",
      " 19  reserved_room_type              119390 non-null  object \n",
      " 20  assigned_room_type              119390 non-null  object \n",
      " 21  booking_changes                 119390 non-null  int64  \n",
      " 22  deposit_type                    119390 non-null  object \n",
      " 23  agent                           103050 non-null  float64\n",
      " 24  company                         6797 non-null    float64\n",
      " 25  days_in_waiting_list            119390 non-null  int64  \n",
      " 26  customer_type                   119390 non-null  object \n",
      " 27  adr                             119390 non-null  float64\n",
      " 28  required_car_parking_spaces     119390 non-null  int64  \n",
      " 29  total_of_special_requests       119390 non-null  int64  \n",
      " 30  reservation_status              119390 non-null  object \n",
      " 31  reservation_status_date         119390 non-null  object \n",
      "dtypes: float64(4), int64(16), object(12)\n",
      "memory usage: 29.1+ MB\n"
     ]
    },
    {
     "name": "stderr",
     "output_type": "stream",
     "text": [
      "/usr/local/lib/python3.11/dist-packages/pandas/io/formats/format.py:1458: RuntimeWarning: invalid value encountered in greater\n",
      "  has_large_values = (abs_vals > 1e6).any()\n",
      "/usr/local/lib/python3.11/dist-packages/pandas/io/formats/format.py:1459: RuntimeWarning: invalid value encountered in less\n",
      "  has_small_values = ((abs_vals < 10 ** (-self.digits)) & (abs_vals > 0)).any()\n",
      "/usr/local/lib/python3.11/dist-packages/pandas/io/formats/format.py:1459: RuntimeWarning: invalid value encountered in greater\n",
      "  has_small_values = ((abs_vals < 10 ** (-self.digits)) & (abs_vals > 0)).any()\n",
      "/usr/local/lib/python3.11/dist-packages/pandas/io/formats/format.py:1458: RuntimeWarning: invalid value encountered in greater\n",
      "  has_large_values = (abs_vals > 1e6).any()\n",
      "/usr/local/lib/python3.11/dist-packages/pandas/io/formats/format.py:1459: RuntimeWarning: invalid value encountered in less\n",
      "  has_small_values = ((abs_vals < 10 ** (-self.digits)) & (abs_vals > 0)).any()\n",
      "/usr/local/lib/python3.11/dist-packages/pandas/io/formats/format.py:1459: RuntimeWarning: invalid value encountered in greater\n",
      "  has_small_values = ((abs_vals < 10 ** (-self.digits)) & (abs_vals > 0)).any()\n"
     ]
    },
    {
     "data": {
      "text/html": [
       "<div>\n",
       "<style scoped>\n",
       "    .dataframe tbody tr th:only-of-type {\n",
       "        vertical-align: middle;\n",
       "    }\n",
       "\n",
       "    .dataframe tbody tr th {\n",
       "        vertical-align: top;\n",
       "    }\n",
       "\n",
       "    .dataframe thead th {\n",
       "        text-align: right;\n",
       "    }\n",
       "</style>\n",
       "<table border=\"1\" class=\"dataframe\">\n",
       "  <thead>\n",
       "    <tr style=\"text-align: right;\">\n",
       "      <th></th>\n",
       "      <th>hotel</th>\n",
       "      <th>is_canceled</th>\n",
       "      <th>lead_time</th>\n",
       "      <th>arrival_date_year</th>\n",
       "      <th>arrival_date_month</th>\n",
       "      <th>arrival_date_week_number</th>\n",
       "      <th>arrival_date_day_of_month</th>\n",
       "      <th>stays_in_weekend_nights</th>\n",
       "      <th>stays_in_week_nights</th>\n",
       "      <th>adults</th>\n",
       "      <th>...</th>\n",
       "      <th>deposit_type</th>\n",
       "      <th>agent</th>\n",
       "      <th>company</th>\n",
       "      <th>days_in_waiting_list</th>\n",
       "      <th>customer_type</th>\n",
       "      <th>adr</th>\n",
       "      <th>required_car_parking_spaces</th>\n",
       "      <th>total_of_special_requests</th>\n",
       "      <th>reservation_status</th>\n",
       "      <th>reservation_status_date</th>\n",
       "    </tr>\n",
       "  </thead>\n",
       "  <tbody>\n",
       "    <tr>\n",
       "      <th>0</th>\n",
       "      <td>Resort Hotel</td>\n",
       "      <td>0</td>\n",
       "      <td>342</td>\n",
       "      <td>2015</td>\n",
       "      <td>July</td>\n",
       "      <td>27</td>\n",
       "      <td>1</td>\n",
       "      <td>0</td>\n",
       "      <td>0</td>\n",
       "      <td>2</td>\n",
       "      <td>...</td>\n",
       "      <td>No Deposit</td>\n",
       "      <td>NaN</td>\n",
       "      <td>NaN</td>\n",
       "      <td>0</td>\n",
       "      <td>Transient</td>\n",
       "      <td>0.0</td>\n",
       "      <td>0</td>\n",
       "      <td>0</td>\n",
       "      <td>Check-Out</td>\n",
       "      <td>2015-07-01</td>\n",
       "    </tr>\n",
       "    <tr>\n",
       "      <th>1</th>\n",
       "      <td>Resort Hotel</td>\n",
       "      <td>0</td>\n",
       "      <td>737</td>\n",
       "      <td>2015</td>\n",
       "      <td>July</td>\n",
       "      <td>27</td>\n",
       "      <td>1</td>\n",
       "      <td>0</td>\n",
       "      <td>0</td>\n",
       "      <td>2</td>\n",
       "      <td>...</td>\n",
       "      <td>No Deposit</td>\n",
       "      <td>NaN</td>\n",
       "      <td>NaN</td>\n",
       "      <td>0</td>\n",
       "      <td>Transient</td>\n",
       "      <td>0.0</td>\n",
       "      <td>0</td>\n",
       "      <td>0</td>\n",
       "      <td>Check-Out</td>\n",
       "      <td>2015-07-01</td>\n",
       "    </tr>\n",
       "    <tr>\n",
       "      <th>2</th>\n",
       "      <td>Resort Hotel</td>\n",
       "      <td>0</td>\n",
       "      <td>7</td>\n",
       "      <td>2015</td>\n",
       "      <td>July</td>\n",
       "      <td>27</td>\n",
       "      <td>1</td>\n",
       "      <td>0</td>\n",
       "      <td>1</td>\n",
       "      <td>1</td>\n",
       "      <td>...</td>\n",
       "      <td>No Deposit</td>\n",
       "      <td>NaN</td>\n",
       "      <td>NaN</td>\n",
       "      <td>0</td>\n",
       "      <td>Transient</td>\n",
       "      <td>75.0</td>\n",
       "      <td>0</td>\n",
       "      <td>0</td>\n",
       "      <td>Check-Out</td>\n",
       "      <td>2015-07-02</td>\n",
       "    </tr>\n",
       "    <tr>\n",
       "      <th>3</th>\n",
       "      <td>Resort Hotel</td>\n",
       "      <td>0</td>\n",
       "      <td>13</td>\n",
       "      <td>2015</td>\n",
       "      <td>July</td>\n",
       "      <td>27</td>\n",
       "      <td>1</td>\n",
       "      <td>0</td>\n",
       "      <td>1</td>\n",
       "      <td>1</td>\n",
       "      <td>...</td>\n",
       "      <td>No Deposit</td>\n",
       "      <td>304.0</td>\n",
       "      <td>NaN</td>\n",
       "      <td>0</td>\n",
       "      <td>Transient</td>\n",
       "      <td>75.0</td>\n",
       "      <td>0</td>\n",
       "      <td>0</td>\n",
       "      <td>Check-Out</td>\n",
       "      <td>2015-07-02</td>\n",
       "    </tr>\n",
       "    <tr>\n",
       "      <th>4</th>\n",
       "      <td>Resort Hotel</td>\n",
       "      <td>0</td>\n",
       "      <td>14</td>\n",
       "      <td>2015</td>\n",
       "      <td>July</td>\n",
       "      <td>27</td>\n",
       "      <td>1</td>\n",
       "      <td>0</td>\n",
       "      <td>2</td>\n",
       "      <td>2</td>\n",
       "      <td>...</td>\n",
       "      <td>No Deposit</td>\n",
       "      <td>240.0</td>\n",
       "      <td>NaN</td>\n",
       "      <td>0</td>\n",
       "      <td>Transient</td>\n",
       "      <td>98.0</td>\n",
       "      <td>0</td>\n",
       "      <td>1</td>\n",
       "      <td>Check-Out</td>\n",
       "      <td>2015-07-03</td>\n",
       "    </tr>\n",
       "  </tbody>\n",
       "</table>\n",
       "<p>5 rows × 32 columns</p>\n",
       "</div>"
      ],
      "text/plain": [
       "          hotel  is_canceled  lead_time  arrival_date_year arrival_date_month  \\\n",
       "0  Resort Hotel            0        342               2015               July   \n",
       "1  Resort Hotel            0        737               2015               July   \n",
       "2  Resort Hotel            0          7               2015               July   \n",
       "3  Resort Hotel            0         13               2015               July   \n",
       "4  Resort Hotel            0         14               2015               July   \n",
       "\n",
       "   arrival_date_week_number  arrival_date_day_of_month  \\\n",
       "0                        27                          1   \n",
       "1                        27                          1   \n",
       "2                        27                          1   \n",
       "3                        27                          1   \n",
       "4                        27                          1   \n",
       "\n",
       "   stays_in_weekend_nights  stays_in_week_nights  adults  ...  deposit_type  \\\n",
       "0                        0                     0       2  ...    No Deposit   \n",
       "1                        0                     0       2  ...    No Deposit   \n",
       "2                        0                     1       1  ...    No Deposit   \n",
       "3                        0                     1       1  ...    No Deposit   \n",
       "4                        0                     2       2  ...    No Deposit   \n",
       "\n",
       "   agent company days_in_waiting_list customer_type   adr  \\\n",
       "0    NaN     NaN                    0     Transient   0.0   \n",
       "1    NaN     NaN                    0     Transient   0.0   \n",
       "2    NaN     NaN                    0     Transient  75.0   \n",
       "3  304.0     NaN                    0     Transient  75.0   \n",
       "4  240.0     NaN                    0     Transient  98.0   \n",
       "\n",
       "   required_car_parking_spaces  total_of_special_requests  reservation_status  \\\n",
       "0                            0                          0           Check-Out   \n",
       "1                            0                          0           Check-Out   \n",
       "2                            0                          0           Check-Out   \n",
       "3                            0                          0           Check-Out   \n",
       "4                            0                          1           Check-Out   \n",
       "\n",
       "  reservation_status_date  \n",
       "0              2015-07-01  \n",
       "1              2015-07-01  \n",
       "2              2015-07-02  \n",
       "3              2015-07-02  \n",
       "4              2015-07-03  \n",
       "\n",
       "[5 rows x 32 columns]"
      ]
     },
     "execution_count": 2,
     "metadata": {},
     "output_type": "execute_result"
    }
   ],
   "source": [
    "df=pd.read_csv('/kaggle/input/hotel-booking-demand/hotel_bookings.csv')\n",
    "df.info()\n",
    "df.shape             #Loading and quick checking the shape and info of the dataset \n",
    "df.head()"
   ]
  },
  {
   "cell_type": "markdown",
   "id": "980a073b",
   "metadata": {
    "papermill": {
     "duration": 0.008069,
     "end_time": "2025-09-25T12:19:10.529620",
     "exception": false,
     "start_time": "2025-09-25T12:19:10.521551",
     "status": "completed"
    },
    "tags": []
   },
   "source": [
    "**Checking and handling the missing values**"
   ]
  },
  {
   "cell_type": "code",
   "execution_count": 3,
   "id": "b3778e54",
   "metadata": {
    "execution": {
     "iopub.execute_input": "2025-09-25T12:19:10.547868Z",
     "iopub.status.busy": "2025-09-25T12:19:10.547523Z",
     "iopub.status.idle": "2025-09-25T12:19:10.824014Z",
     "shell.execute_reply": "2025-09-25T12:19:10.822918Z"
    },
    "papermill": {
     "duration": 0.28769,
     "end_time": "2025-09-25T12:19:10.825965",
     "exception": false,
     "start_time": "2025-09-25T12:19:10.538275",
     "status": "completed"
    },
    "tags": []
   },
   "outputs": [
    {
     "data": {
      "text/plain": [
       "31813"
      ]
     },
     "execution_count": 3,
     "metadata": {},
     "output_type": "execute_result"
    }
   ],
   "source": [
    "#show missing values\n",
    "df.isna().sum()\n",
    "\n",
    "#common fixes\n",
    "df['children']=df['children'].fillna(0)\n",
    "\n",
    "df['agent']=df['agent'].fillna(0).astype(int)\n",
    "df['company'] = df['company'].fillna(0).astype(int)\n",
    "\n",
    "#adr value is zero so filter it \n",
    "df = df[df['adr']>0].copy()\n",
    "\n",
    "#last checking the duplicate \n",
    "df.duplicated().sum()"
   ]
  },
  {
   "cell_type": "code",
   "execution_count": 4,
   "id": "162f2f76",
   "metadata": {
    "execution": {
     "iopub.execute_input": "2025-09-25T12:19:10.843255Z",
     "iopub.status.busy": "2025-09-25T12:19:10.842879Z",
     "iopub.status.idle": "2025-09-25T12:19:10.941527Z",
     "shell.execute_reply": "2025-09-25T12:19:10.940260Z"
    },
    "papermill": {
     "duration": 0.109416,
     "end_time": "2025-09-25T12:19:10.943428",
     "exception": false,
     "start_time": "2025-09-25T12:19:10.834012",
     "status": "completed"
    },
    "tags": []
   },
   "outputs": [
    {
     "name": "stdout",
     "output_type": "stream",
     "text": [
      "<class 'pandas.core.frame.DataFrame'>\n",
      "Index: 117430 entries, 2 to 119389\n",
      "Data columns (total 32 columns):\n",
      " #   Column                          Non-Null Count   Dtype  \n",
      "---  ------                          --------------   -----  \n",
      " 0   hotel                           117430 non-null  object \n",
      " 1   is_canceled                     117430 non-null  int64  \n",
      " 2   lead_time                       117430 non-null  int64  \n",
      " 3   arrival_date_year               117430 non-null  int64  \n",
      " 4   arrival_date_month              117430 non-null  object \n",
      " 5   arrival_date_week_number        117430 non-null  int64  \n",
      " 6   arrival_date_day_of_month       117430 non-null  int64  \n",
      " 7   stays_in_weekend_nights         117430 non-null  int64  \n",
      " 8   stays_in_week_nights            117430 non-null  int64  \n",
      " 9   adults                          117430 non-null  int64  \n",
      " 10  children                        117430 non-null  float64\n",
      " 11  babies                          117430 non-null  int64  \n",
      " 12  meal                            117430 non-null  object \n",
      " 13  country                         116963 non-null  object \n",
      " 14  market_segment                  117430 non-null  object \n",
      " 15  distribution_channel            117430 non-null  object \n",
      " 16  is_repeated_guest               117430 non-null  int64  \n",
      " 17  previous_cancellations          117430 non-null  int64  \n",
      " 18  previous_bookings_not_canceled  117430 non-null  int64  \n",
      " 19  reserved_room_type              117430 non-null  object \n",
      " 20  assigned_room_type              117430 non-null  object \n",
      " 21  booking_changes                 117430 non-null  int64  \n",
      " 22  deposit_type                    117430 non-null  object \n",
      " 23  agent                           117430 non-null  int64  \n",
      " 24  company                         117430 non-null  int64  \n",
      " 25  days_in_waiting_list            117430 non-null  int64  \n",
      " 26  customer_type                   117430 non-null  object \n",
      " 27  adr                             117430 non-null  float64\n",
      " 28  required_car_parking_spaces     117430 non-null  int64  \n",
      " 29  total_of_special_requests       117430 non-null  int64  \n",
      " 30  reservation_status              117430 non-null  object \n",
      " 31  reservation_status_date         117430 non-null  object \n",
      "dtypes: float64(2), int64(18), object(12)\n",
      "memory usage: 29.6+ MB\n"
     ]
    },
    {
     "data": {
      "text/html": [
       "<div>\n",
       "<style scoped>\n",
       "    .dataframe tbody tr th:only-of-type {\n",
       "        vertical-align: middle;\n",
       "    }\n",
       "\n",
       "    .dataframe tbody tr th {\n",
       "        vertical-align: top;\n",
       "    }\n",
       "\n",
       "    .dataframe thead th {\n",
       "        text-align: right;\n",
       "    }\n",
       "</style>\n",
       "<table border=\"1\" class=\"dataframe\">\n",
       "  <thead>\n",
       "    <tr style=\"text-align: right;\">\n",
       "      <th></th>\n",
       "      <th>hotel</th>\n",
       "      <th>is_canceled</th>\n",
       "      <th>lead_time</th>\n",
       "      <th>arrival_date_year</th>\n",
       "      <th>arrival_date_month</th>\n",
       "      <th>arrival_date_week_number</th>\n",
       "      <th>arrival_date_day_of_month</th>\n",
       "      <th>stays_in_weekend_nights</th>\n",
       "      <th>stays_in_week_nights</th>\n",
       "      <th>adults</th>\n",
       "      <th>...</th>\n",
       "      <th>deposit_type</th>\n",
       "      <th>agent</th>\n",
       "      <th>company</th>\n",
       "      <th>days_in_waiting_list</th>\n",
       "      <th>customer_type</th>\n",
       "      <th>adr</th>\n",
       "      <th>required_car_parking_spaces</th>\n",
       "      <th>total_of_special_requests</th>\n",
       "      <th>reservation_status</th>\n",
       "      <th>reservation_status_date</th>\n",
       "    </tr>\n",
       "  </thead>\n",
       "  <tbody>\n",
       "    <tr>\n",
       "      <th>2</th>\n",
       "      <td>Resort Hotel</td>\n",
       "      <td>0</td>\n",
       "      <td>7</td>\n",
       "      <td>2015</td>\n",
       "      <td>July</td>\n",
       "      <td>27</td>\n",
       "      <td>1</td>\n",
       "      <td>0</td>\n",
       "      <td>1</td>\n",
       "      <td>1</td>\n",
       "      <td>...</td>\n",
       "      <td>No Deposit</td>\n",
       "      <td>0</td>\n",
       "      <td>0</td>\n",
       "      <td>0</td>\n",
       "      <td>Transient</td>\n",
       "      <td>75.0</td>\n",
       "      <td>0</td>\n",
       "      <td>0</td>\n",
       "      <td>Check-Out</td>\n",
       "      <td>2015-07-02</td>\n",
       "    </tr>\n",
       "    <tr>\n",
       "      <th>3</th>\n",
       "      <td>Resort Hotel</td>\n",
       "      <td>0</td>\n",
       "      <td>13</td>\n",
       "      <td>2015</td>\n",
       "      <td>July</td>\n",
       "      <td>27</td>\n",
       "      <td>1</td>\n",
       "      <td>0</td>\n",
       "      <td>1</td>\n",
       "      <td>1</td>\n",
       "      <td>...</td>\n",
       "      <td>No Deposit</td>\n",
       "      <td>304</td>\n",
       "      <td>0</td>\n",
       "      <td>0</td>\n",
       "      <td>Transient</td>\n",
       "      <td>75.0</td>\n",
       "      <td>0</td>\n",
       "      <td>0</td>\n",
       "      <td>Check-Out</td>\n",
       "      <td>2015-07-02</td>\n",
       "    </tr>\n",
       "    <tr>\n",
       "      <th>4</th>\n",
       "      <td>Resort Hotel</td>\n",
       "      <td>0</td>\n",
       "      <td>14</td>\n",
       "      <td>2015</td>\n",
       "      <td>July</td>\n",
       "      <td>27</td>\n",
       "      <td>1</td>\n",
       "      <td>0</td>\n",
       "      <td>2</td>\n",
       "      <td>2</td>\n",
       "      <td>...</td>\n",
       "      <td>No Deposit</td>\n",
       "      <td>240</td>\n",
       "      <td>0</td>\n",
       "      <td>0</td>\n",
       "      <td>Transient</td>\n",
       "      <td>98.0</td>\n",
       "      <td>0</td>\n",
       "      <td>1</td>\n",
       "      <td>Check-Out</td>\n",
       "      <td>2015-07-03</td>\n",
       "    </tr>\n",
       "    <tr>\n",
       "      <th>5</th>\n",
       "      <td>Resort Hotel</td>\n",
       "      <td>0</td>\n",
       "      <td>14</td>\n",
       "      <td>2015</td>\n",
       "      <td>July</td>\n",
       "      <td>27</td>\n",
       "      <td>1</td>\n",
       "      <td>0</td>\n",
       "      <td>2</td>\n",
       "      <td>2</td>\n",
       "      <td>...</td>\n",
       "      <td>No Deposit</td>\n",
       "      <td>240</td>\n",
       "      <td>0</td>\n",
       "      <td>0</td>\n",
       "      <td>Transient</td>\n",
       "      <td>98.0</td>\n",
       "      <td>0</td>\n",
       "      <td>1</td>\n",
       "      <td>Check-Out</td>\n",
       "      <td>2015-07-03</td>\n",
       "    </tr>\n",
       "    <tr>\n",
       "      <th>6</th>\n",
       "      <td>Resort Hotel</td>\n",
       "      <td>0</td>\n",
       "      <td>0</td>\n",
       "      <td>2015</td>\n",
       "      <td>July</td>\n",
       "      <td>27</td>\n",
       "      <td>1</td>\n",
       "      <td>0</td>\n",
       "      <td>2</td>\n",
       "      <td>2</td>\n",
       "      <td>...</td>\n",
       "      <td>No Deposit</td>\n",
       "      <td>0</td>\n",
       "      <td>0</td>\n",
       "      <td>0</td>\n",
       "      <td>Transient</td>\n",
       "      <td>107.0</td>\n",
       "      <td>0</td>\n",
       "      <td>0</td>\n",
       "      <td>Check-Out</td>\n",
       "      <td>2015-07-03</td>\n",
       "    </tr>\n",
       "  </tbody>\n",
       "</table>\n",
       "<p>5 rows × 32 columns</p>\n",
       "</div>"
      ],
      "text/plain": [
       "          hotel  is_canceled  lead_time  arrival_date_year arrival_date_month  \\\n",
       "2  Resort Hotel            0          7               2015               July   \n",
       "3  Resort Hotel            0         13               2015               July   \n",
       "4  Resort Hotel            0         14               2015               July   \n",
       "5  Resort Hotel            0         14               2015               July   \n",
       "6  Resort Hotel            0          0               2015               July   \n",
       "\n",
       "   arrival_date_week_number  arrival_date_day_of_month  \\\n",
       "2                        27                          1   \n",
       "3                        27                          1   \n",
       "4                        27                          1   \n",
       "5                        27                          1   \n",
       "6                        27                          1   \n",
       "\n",
       "   stays_in_weekend_nights  stays_in_week_nights  adults  ...  deposit_type  \\\n",
       "2                        0                     1       1  ...    No Deposit   \n",
       "3                        0                     1       1  ...    No Deposit   \n",
       "4                        0                     2       2  ...    No Deposit   \n",
       "5                        0                     2       2  ...    No Deposit   \n",
       "6                        0                     2       2  ...    No Deposit   \n",
       "\n",
       "   agent company days_in_waiting_list customer_type    adr  \\\n",
       "2      0       0                    0     Transient   75.0   \n",
       "3    304       0                    0     Transient   75.0   \n",
       "4    240       0                    0     Transient   98.0   \n",
       "5    240       0                    0     Transient   98.0   \n",
       "6      0       0                    0     Transient  107.0   \n",
       "\n",
       "   required_car_parking_spaces  total_of_special_requests  reservation_status  \\\n",
       "2                            0                          0           Check-Out   \n",
       "3                            0                          0           Check-Out   \n",
       "4                            0                          1           Check-Out   \n",
       "5                            0                          1           Check-Out   \n",
       "6                            0                          0           Check-Out   \n",
       "\n",
       "  reservation_status_date  \n",
       "2              2015-07-02  \n",
       "3              2015-07-02  \n",
       "4              2015-07-03  \n",
       "5              2015-07-03  \n",
       "6              2015-07-03  \n",
       "\n",
       "[5 rows x 32 columns]"
      ]
     },
     "execution_count": 4,
     "metadata": {},
     "output_type": "execute_result"
    }
   ],
   "source": [
    "df.info()\n",
    "df.head()"
   ]
  },
  {
   "cell_type": "markdown",
   "id": "1c8c7e80",
   "metadata": {
    "papermill": {
     "duration": 0.007885,
     "end_time": "2025-09-25T12:19:10.960008",
     "exception": false,
     "start_time": "2025-09-25T12:19:10.952123",
     "status": "completed"
    },
    "tags": []
   },
   "source": [
    "**Creating date columns and creating useful datetime fields**"
   ]
  },
  {
   "cell_type": "code",
   "execution_count": 5,
   "id": "083f4db5",
   "metadata": {
    "execution": {
     "iopub.execute_input": "2025-09-25T12:19:10.978375Z",
     "iopub.status.busy": "2025-09-25T12:19:10.977935Z",
     "iopub.status.idle": "2025-09-25T12:19:11.070026Z",
     "shell.execute_reply": "2025-09-25T12:19:11.068736Z"
    },
    "papermill": {
     "duration": 0.103874,
     "end_time": "2025-09-25T12:19:11.071842",
     "exception": false,
     "start_time": "2025-09-25T12:19:10.967968",
     "status": "completed"
    },
    "tags": []
   },
   "outputs": [],
   "source": [
    "#map month (string) to numeric\n",
    "\n",
    "month_map={m:i for i,m in enumerate([\"January\",\"February\",\"March\",\"April\",\"May\",\"June\",\n",
    "                                       \"July\",\"August\",\"September\",\"October\",\"November\",\"December\"],1)}\n",
    "df['arrival_month_num']=df['arrival_date_month'].map(month_map)\n",
    "\n",
    "#creating arriavl_date and booking_date\n",
    "\n",
    "df['arrival_date'] = pd.to_datetime(dict(year=df['arrival_date_year'],\n",
    "                                         month=df['arrival_month_num'],\n",
    "                                         day=df['arrival_date_day_of_month']))\n",
    "df['booking_date']=df['arrival_date']-pd.to_timedelta(df['lead_time'],unit = \"D\")\n",
    "\n",
    "#total\n",
    "df['total_nights'] = df['stays_in_week_nights'] + df['stays_in_weekend_nights']\n",
    "df['total_guest'] = df['adults'] + df['children'] + df['babies']\n",
    "df['booking_revenue']=df['adr']*df['total_nights']\n",
    "df['has_agent']=(df['agent']!=0).astype(int)\n",
    "df['has_company']=(df['company']!=0).astype(int)"
   ]
  },
  {
   "cell_type": "code",
   "execution_count": 6,
   "id": "839523b4",
   "metadata": {
    "execution": {
     "iopub.execute_input": "2025-09-25T12:19:11.090188Z",
     "iopub.status.busy": "2025-09-25T12:19:11.089789Z",
     "iopub.status.idle": "2025-09-25T12:19:11.179312Z",
     "shell.execute_reply": "2025-09-25T12:19:11.177663Z"
    },
    "papermill": {
     "duration": 0.101192,
     "end_time": "2025-09-25T12:19:11.181288",
     "exception": false,
     "start_time": "2025-09-25T12:19:11.080096",
     "status": "completed"
    },
    "tags": []
   },
   "outputs": [
    {
     "name": "stdout",
     "output_type": "stream",
     "text": [
      "<class 'pandas.core.frame.DataFrame'>\n",
      "Index: 117430 entries, 2 to 119389\n",
      "Data columns (total 40 columns):\n",
      " #   Column                          Non-Null Count   Dtype         \n",
      "---  ------                          --------------   -----         \n",
      " 0   hotel                           117430 non-null  object        \n",
      " 1   is_canceled                     117430 non-null  int64         \n",
      " 2   lead_time                       117430 non-null  int64         \n",
      " 3   arrival_date_year               117430 non-null  int64         \n",
      " 4   arrival_date_month              117430 non-null  object        \n",
      " 5   arrival_date_week_number        117430 non-null  int64         \n",
      " 6   arrival_date_day_of_month       117430 non-null  int64         \n",
      " 7   stays_in_weekend_nights         117430 non-null  int64         \n",
      " 8   stays_in_week_nights            117430 non-null  int64         \n",
      " 9   adults                          117430 non-null  int64         \n",
      " 10  children                        117430 non-null  float64       \n",
      " 11  babies                          117430 non-null  int64         \n",
      " 12  meal                            117430 non-null  object        \n",
      " 13  country                         116963 non-null  object        \n",
      " 14  market_segment                  117430 non-null  object        \n",
      " 15  distribution_channel            117430 non-null  object        \n",
      " 16  is_repeated_guest               117430 non-null  int64         \n",
      " 17  previous_cancellations          117430 non-null  int64         \n",
      " 18  previous_bookings_not_canceled  117430 non-null  int64         \n",
      " 19  reserved_room_type              117430 non-null  object        \n",
      " 20  assigned_room_type              117430 non-null  object        \n",
      " 21  booking_changes                 117430 non-null  int64         \n",
      " 22  deposit_type                    117430 non-null  object        \n",
      " 23  agent                           117430 non-null  int64         \n",
      " 24  company                         117430 non-null  int64         \n",
      " 25  days_in_waiting_list            117430 non-null  int64         \n",
      " 26  customer_type                   117430 non-null  object        \n",
      " 27  adr                             117430 non-null  float64       \n",
      " 28  required_car_parking_spaces     117430 non-null  int64         \n",
      " 29  total_of_special_requests       117430 non-null  int64         \n",
      " 30  reservation_status              117430 non-null  object        \n",
      " 31  reservation_status_date         117430 non-null  object        \n",
      " 32  arrival_month_num               117430 non-null  int64         \n",
      " 33  arrival_date                    117430 non-null  datetime64[ns]\n",
      " 34  booking_date                    117430 non-null  datetime64[ns]\n",
      " 35  total_nights                    117430 non-null  int64         \n",
      " 36  total_guest                     117430 non-null  float64       \n",
      " 37  booking_revenue                 117430 non-null  float64       \n",
      " 38  has_agent                       117430 non-null  int64         \n",
      " 39  has_company                     117430 non-null  int64         \n",
      "dtypes: datetime64[ns](2), float64(4), int64(22), object(12)\n",
      "memory usage: 36.7+ MB\n"
     ]
    }
   ],
   "source": [
    "df.head()\n",
    "df.info()"
   ]
  },
  {
   "cell_type": "markdown",
   "id": "a3007913",
   "metadata": {
    "papermill": {
     "duration": 0.00861,
     "end_time": "2025-09-25T12:19:11.198882",
     "exception": false,
     "start_time": "2025-09-25T12:19:11.190272",
     "status": "completed"
    },
    "tags": []
   },
   "source": [
    "# **Basic_level_question**"
   ]
  },
  {
   "cell_type": "markdown",
   "id": "4d5d5ccc",
   "metadata": {
    "papermill": {
     "duration": 0.009601,
     "end_time": "2025-09-25T12:19:11.217265",
     "exception": false,
     "start_time": "2025-09-25T12:19:11.207664",
     "status": "completed"
    },
    "tags": []
   },
   "source": [
    "**For Q1,Q2,Q3,Q6,Q7 the answer is below**"
   ]
  },
  {
   "cell_type": "code",
   "execution_count": 7,
   "id": "097e854d",
   "metadata": {
    "execution": {
     "iopub.execute_input": "2025-09-25T12:19:11.235698Z",
     "iopub.status.busy": "2025-09-25T12:19:11.235385Z",
     "iopub.status.idle": "2025-09-25T12:19:11.887340Z",
     "shell.execute_reply": "2025-09-25T12:19:11.886225Z"
    },
    "papermill": {
     "duration": 0.663753,
     "end_time": "2025-09-25T12:19:11.889298",
     "exception": false,
     "start_time": "2025-09-25T12:19:11.225545",
     "status": "completed"
    },
    "tags": []
   },
   "outputs": [
    {
     "name": "stdout",
     "output_type": "stream",
     "text": [
      "Average lead time: 105.08433960657413\n",
      "Cancellation rate: 0.37478497828493573\n",
      "hotel\n",
      "City Hotel      106.932788\n",
      "Resort Hotel     96.769633\n",
      "Name: adr, dtype: float64\n",
      "country\n",
      "PRT    47040\n",
      "GBR    12055\n",
      "FRA    10360\n",
      "ESP     8489\n",
      "DEU     7246\n",
      "ITA     3749\n",
      "IRL     3369\n",
      "BEL     2334\n",
      "BRA     2211\n",
      "NLD     2100\n",
      "Name: count, dtype: int64\n"
     ]
    },
    {
     "data": {
      "text/plain": [
       "<Axes: title={'center': 'Booking per month'}, xlabel='arrival_date'>"
      ]
     },
     "execution_count": 7,
     "metadata": {},
     "output_type": "execute_result"
    },
    {
     "data": {
      "image/png": "[encoded data removed]",
      "text/plain": [
       "<Figure size 1200x400 with 1 Axes>"
      ]
     },
     "metadata": {},
     "output_type": "display_data"
    }
   ],
   "source": [
    "#Average lead time\n",
    "print(\"Average lead time:\",df['lead_time'].mean())\n",
    "\n",
    "#cancellation rate\n",
    "print(\"Cancellation rate:\",df['is_canceled'].mean())\n",
    "\n",
    "#ADR by hotel type\n",
    "print(df.groupby('hotel')['adr'].mean())\n",
    "\n",
    "#top countries\n",
    "print(df['country'].value_counts().head(10))\n",
    "\n",
    "\n",
    "#ploting: booking by month\n",
    "monthly=df.groupby(df['arrival_date'].dt.to_period('M')).size()\n",
    "monthly.plot(figsize=(12,4),title = 'Booking per month')"
   ]
  },
  {
   "cell_type": "markdown",
   "id": "2c592485",
   "metadata": {
    "papermill": {
     "duration": 0.009391,
     "end_time": "2025-09-25T12:19:11.908279",
     "exception": false,
     "start_time": "2025-09-25T12:19:11.898888",
     "status": "completed"
    },
    "tags": []
   },
   "source": []
  },
  {
   "cell_type": "markdown",
   "id": "e41a2364",
   "metadata": {
    "papermill": {
     "duration": 0.00926,
     "end_time": "2025-09-25T12:19:11.926879",
     "exception": false,
     "start_time": "2025-09-25T12:19:11.917619",
     "status": "completed"
    },
    "tags": []
   },
   "source": [
    "**Q4: Most common arrival month**"
   ]
  },
  {
   "cell_type": "code",
   "execution_count": 8,
   "id": "57b19d69",
   "metadata": {
    "execution": {
     "iopub.execute_input": "2025-09-25T12:19:11.947754Z",
     "iopub.status.busy": "2025-09-25T12:19:11.947396Z",
     "iopub.status.idle": "2025-09-25T12:19:11.997453Z",
     "shell.execute_reply": "2025-09-25T12:19:11.996414Z"
    },
    "papermill": {
     "duration": 0.062519,
     "end_time": "2025-09-25T12:19:11.999219",
     "exception": false,
     "start_time": "2025-09-25T12:19:11.936700",
     "status": "completed"
    },
    "tags": []
   },
   "outputs": [
    {
     "data": {
      "text/plain": [
       "'August'"
      ]
     },
     "execution_count": 8,
     "metadata": {},
     "output_type": "execute_result"
    }
   ],
   "source": [
    "df['arrival_date'].dt.month_name().value_counts().idxmax()"
   ]
  },
  {
   "cell_type": "markdown",
   "id": "63e88c04",
   "metadata": {
    "papermill": {
     "duration": 0.008947,
     "end_time": "2025-09-25T12:19:12.017900",
     "exception": false,
     "start_time": "2025-09-25T12:19:12.008953",
     "status": "completed"
    },
    "tags": []
   },
   "source": [
    "**Q5: Average number of special requests per booking**"
   ]
  },
  {
   "cell_type": "code",
   "execution_count": 9,
   "id": "04ea14cc",
   "metadata": {
    "execution": {
     "iopub.execute_input": "2025-09-25T12:19:12.038729Z",
     "iopub.status.busy": "2025-09-25T12:19:12.037890Z",
     "iopub.status.idle": "2025-09-25T12:19:12.045200Z",
     "shell.execute_reply": "2025-09-25T12:19:12.044238Z"
    },
    "papermill": {
     "duration": 0.019309,
     "end_time": "2025-09-25T12:19:12.046895",
     "exception": false,
     "start_time": "2025-09-25T12:19:12.027586",
     "status": "completed"
    },
    "tags": []
   },
   "outputs": [
    {
     "data": {
      "text/plain": [
       "0.57103806523035"
      ]
     },
     "execution_count": 9,
     "metadata": {},
     "output_type": "execute_result"
    }
   ],
   "source": [
    "df['total_of_special_requests'].mean()"
   ]
  },
  {
   "cell_type": "markdown",
   "id": "627aa583",
   "metadata": {
    "papermill": {
     "duration": 0.009265,
     "end_time": "2025-09-25T12:19:12.065769",
     "exception": false,
     "start_time": "2025-09-25T12:19:12.056504",
     "status": "completed"
    },
    "tags": []
   },
   "source": [
    "**Q8: Percentage of guests requiring car parking spaces**"
   ]
  },
  {
   "cell_type": "code",
   "execution_count": 10,
   "id": "9a5a3ca1",
   "metadata": {
    "execution": {
     "iopub.execute_input": "2025-09-25T12:19:12.086163Z",
     "iopub.status.busy": "2025-09-25T12:19:12.085814Z",
     "iopub.status.idle": "2025-09-25T12:19:12.094242Z",
     "shell.execute_reply": "2025-09-25T12:19:12.092965Z"
    },
    "papermill": {
     "duration": 0.020754,
     "end_time": "2025-09-25T12:19:12.095960",
     "exception": false,
     "start_time": "2025-09-25T12:19:12.075206",
     "status": "completed"
    },
    "tags": []
   },
   "outputs": [
    {
     "data": {
      "text/plain": [
       "0.062232819552073576"
      ]
     },
     "execution_count": 10,
     "metadata": {},
     "output_type": "execute_result"
    }
   ],
   "source": [
    "pct_parking = (df['required_car_parking_spaces']>0).mean()\n",
    "pct_parking"
   ]
  },
  {
   "cell_type": "markdown",
   "id": "3718ce47",
   "metadata": {
    "papermill": {
     "duration": 0.009469,
     "end_time": "2025-09-25T12:19:12.115107",
     "exception": false,
     "start_time": "2025-09-25T12:19:12.105638",
     "status": "completed"
    },
    "tags": []
   },
   "source": [
    "**Q9: Average stay duration (week & weekend nights)**"
   ]
  },
  {
   "cell_type": "code",
   "execution_count": 11,
   "id": "fa4d7672",
   "metadata": {
    "execution": {
     "iopub.execute_input": "2025-09-25T12:19:12.135483Z",
     "iopub.status.busy": "2025-09-25T12:19:12.135126Z",
     "iopub.status.idle": "2025-09-25T12:19:12.145758Z",
     "shell.execute_reply": "2025-09-25T12:19:12.144410Z"
    },
    "papermill": {
     "duration": 0.023148,
     "end_time": "2025-09-25T12:19:12.147720",
     "exception": false,
     "start_time": "2025-09-25T12:19:12.124572",
     "status": "completed"
    },
    "tags": []
   },
   "outputs": [
    {
     "data": {
      "text/plain": [
       "stays_in_week_nights       2.521221\n",
       "stays_in_weekend_nights    0.936422\n",
       "dtype: float64"
      ]
     },
     "execution_count": 11,
     "metadata": {},
     "output_type": "execute_result"
    }
   ],
   "source": [
    "df[['stays_in_week_nights','stays_in_weekend_nights']].mean()"
   ]
  },
  {
   "cell_type": "markdown",
   "id": "7372b567",
   "metadata": {
    "papermill": {
     "duration": 0.069189,
     "end_time": "2025-09-25T12:19:12.226721",
     "exception": false,
     "start_time": "2025-09-25T12:19:12.157532",
     "status": "completed"
    },
    "tags": []
   },
   "source": [
    "**Q10: How many bookings were made through travel agents?**"
   ]
  },
  {
   "cell_type": "code",
   "execution_count": 12,
   "id": "cbf3d46c",
   "metadata": {
    "execution": {
     "iopub.execute_input": "2025-09-25T12:19:12.247212Z",
     "iopub.status.busy": "2025-09-25T12:19:12.246884Z",
     "iopub.status.idle": "2025-09-25T12:19:12.254654Z",
     "shell.execute_reply": "2025-09-25T12:19:12.253646Z"
    },
    "papermill": {
     "duration": 0.019951,
     "end_time": "2025-09-25T12:19:12.256231",
     "exception": false,
     "start_time": "2025-09-25T12:19:12.236280",
     "status": "completed"
    },
    "tags": []
   },
   "outputs": [
    {
     "data": {
      "text/plain": [
       "102039"
      ]
     },
     "execution_count": 12,
     "metadata": {},
     "output_type": "execute_result"
    }
   ],
   "source": [
    "booking_by_agent = (df['agent']!= 0).sum()\n",
    "booking_by_agent"
   ]
  },
  {
   "cell_type": "markdown",
   "id": "5fca7bc2",
   "metadata": {
    "papermill": {
     "duration": 0.009487,
     "end_time": "2025-09-25T12:19:12.275800",
     "exception": false,
     "start_time": "2025-09-25T12:19:12.266313",
     "status": "completed"
    },
    "tags": []
   },
   "source": [
    "# **Medium_level_question**"
   ]
  },
  {
   "cell_type": "markdown",
   "id": "523efbd6",
   "metadata": {
    "papermill": {
     "duration": 0.009734,
     "end_time": "2025-09-25T12:19:12.295282",
     "exception": false,
     "start_time": "2025-09-25T12:19:12.285548",
     "status": "completed"
    },
    "tags": []
   },
   "source": [
    "**Q1-Cancellation rate per hotel type**"
   ]
  },
  {
   "cell_type": "code",
   "execution_count": 13,
   "id": "0ab53e52",
   "metadata": {
    "execution": {
     "iopub.execute_input": "2025-09-25T12:19:12.318944Z",
     "iopub.status.busy": "2025-09-25T12:19:12.318019Z",
     "iopub.status.idle": "2025-09-25T12:19:12.336603Z",
     "shell.execute_reply": "2025-09-25T12:19:12.335315Z"
    },
    "papermill": {
     "duration": 0.032631,
     "end_time": "2025-09-25T12:19:12.338408",
     "exception": false,
     "start_time": "2025-09-25T12:19:12.305777",
     "status": "completed"
    },
    "tags": []
   },
   "outputs": [
    {
     "data": {
      "text/plain": [
       "hotel\n",
       "City Hotel      0.422071\n",
       "Resort Hotel    0.280808\n",
       "Name: is_canceled, dtype: float64"
      ]
     },
     "execution_count": 13,
     "metadata": {},
     "output_type": "execute_result"
    }
   ],
   "source": [
    "df.groupby('hotel')['is_canceled'].mean().sort_values(ascending = False)"
   ]
  },
  {
   "cell_type": "markdown",
   "id": "c2499f82",
   "metadata": {
    "papermill": {
     "duration": 0.009641,
     "end_time": "2025-09-25T12:19:12.358012",
     "exception": false,
     "start_time": "2025-09-25T12:19:12.348371",
     "status": "completed"
    },
    "tags": []
   },
   "source": [
    "**Q2-Average ADR per market segment**"
   ]
  },
  {
   "cell_type": "code",
   "execution_count": 14,
   "id": "9001f348",
   "metadata": {
    "execution": {
     "iopub.execute_input": "2025-09-25T12:19:12.379220Z",
     "iopub.status.busy": "2025-09-25T12:19:12.378828Z",
     "iopub.status.idle": "2025-09-25T12:19:12.396917Z",
     "shell.execute_reply": "2025-09-25T12:19:12.395868Z"
    },
    "papermill": {
     "duration": 0.030995,
     "end_time": "2025-09-25T12:19:12.398899",
     "exception": false,
     "start_time": "2025-09-25T12:19:12.367904",
     "status": "completed"
    },
    "tags": []
   },
   "outputs": [
    {
     "data": {
      "text/plain": [
       "market_segment\n",
       "Online TA        117.963616\n",
       "Direct           117.685742\n",
       "Aviation         102.743203\n",
       "Offline TA/TO     88.568907\n",
       "Groups            80.507935\n",
       "Corporate         70.449962\n",
       "Complementary     34.040794\n",
       "Undefined         15.000000\n",
       "Name: adr, dtype: float64"
      ]
     },
     "execution_count": 14,
     "metadata": {},
     "output_type": "execute_result"
    }
   ],
   "source": [
    "df.groupby('market_segment')['adr'].mean().sort_values(ascending = False)"
   ]
  },
  {
   "cell_type": "markdown",
   "id": "506c7161",
   "metadata": {
    "papermill": {
     "duration": 0.009813,
     "end_time": "2025-09-25T12:19:12.419907",
     "exception": false,
     "start_time": "2025-09-25T12:19:12.410094",
     "status": "completed"
    },
    "tags": []
   },
   "source": [
    "**Q3-Relationship between lead time and cancellation rate**"
   ]
  },
  {
   "cell_type": "code",
   "execution_count": 15,
   "id": "1b5b117c",
   "metadata": {
    "execution": {
     "iopub.execute_input": "2025-09-25T12:19:12.441630Z",
     "iopub.status.busy": "2025-09-25T12:19:12.441330Z",
     "iopub.status.idle": "2025-09-25T12:19:12.675302Z",
     "shell.execute_reply": "2025-09-25T12:19:12.674263Z"
    },
    "papermill": {
     "duration": 0.247238,
     "end_time": "2025-09-25T12:19:12.677211",
     "exception": false,
     "start_time": "2025-09-25T12:19:12.429973",
     "status": "completed"
    },
    "tags": []
   },
   "outputs": [
    {
     "name": "stderr",
     "output_type": "stream",
     "text": [
      "/tmp/ipykernel_13/2394421624.py:3: FutureWarning: The default of observed=False is deprecated and will be changed to True in a future version of pandas. Pass observed=False to retain current behavior or observed=True to adopt the future default and silence this warning.\n",
      "  lead_cancel = df.groupby('lead_bin')['is_canceled'].mean()\n"
     ]
    },
    {
     "data": {
      "text/plain": [
       "<Axes: title={'center': 'Cancellation rate by lead time bin'}, xlabel='lead_bin'>"
      ]
     },
     "execution_count": 15,
     "metadata": {},
     "output_type": "execute_result"
    },
    {
     "data": {
      "image/png": "[encoded data removed]",
      "text/plain": [
       "<Figure size 640x480 with 1 Axes>"
      ]
     },
     "metadata": {},
     "output_type": "display_data"
    }
   ],
   "source": [
    "df['lead_bin'] = pd.cut(df['lead_time'],bins = [-1,7,30,90,180,365,2000],\n",
    "                       labels = ['0-7','8-30','31-90','91-180','181-365','>365'])\n",
    "lead_cancel = df.groupby('lead_bin')['is_canceled'].mean()\n",
    "lead_cancel.plot.bar(title = \"Cancellation rate by lead time bin\")"
   ]
  },
  {
   "cell_type": "markdown",
   "id": "91fc5d6a",
   "metadata": {
    "papermill": {
     "duration": 0.011309,
     "end_time": "2025-09-25T12:19:12.729640",
     "exception": false,
     "start_time": "2025-09-25T12:19:12.718331",
     "status": "completed"
    },
    "tags": []
   },
   "source": [
    "**Q4-Distribution channel with highest bookings**"
   ]
  },
  {
   "cell_type": "code",
   "execution_count": 16,
   "id": "3c3eb7cb",
   "metadata": {
    "execution": {
     "iopub.execute_input": "2025-09-25T12:19:12.756871Z",
     "iopub.status.busy": "2025-09-25T12:19:12.755704Z",
     "iopub.status.idle": "2025-09-25T12:19:12.773873Z",
     "shell.execute_reply": "2025-09-25T12:19:12.772624Z"
    },
    "papermill": {
     "duration": 0.034005,
     "end_time": "2025-09-25T12:19:12.775981",
     "exception": false,
     "start_time": "2025-09-25T12:19:12.741976",
     "status": "completed"
    },
    "tags": []
   },
   "outputs": [
    {
     "data": {
      "text/plain": [
       "distribution_channel\n",
       "TA/TO        96913\n",
       "Direct       13838\n",
       "Corporate     6485\n",
       "GDS            189\n",
       "Undefined        5\n",
       "Name: count, dtype: int64"
      ]
     },
     "execution_count": 16,
     "metadata": {},
     "output_type": "execute_result"
    }
   ],
   "source": [
    "df['distribution_channel'].value_counts()"
   ]
  },
  {
   "cell_type": "markdown",
   "id": "7e3ec2ec",
   "metadata": {
    "papermill": {
     "duration": 0.010371,
     "end_time": "2025-09-25T12:19:12.797641",
     "exception": false,
     "start_time": "2025-09-25T12:19:12.787270",
     "status": "completed"
    },
    "tags": []
   },
   "source": [
    "**Q5-Average previous cancellations by hotel type**"
   ]
  },
  {
   "cell_type": "code",
   "execution_count": 17,
   "id": "836fb5c0",
   "metadata": {
    "execution": {
     "iopub.execute_input": "2025-09-25T12:19:12.820725Z",
     "iopub.status.busy": "2025-09-25T12:19:12.820348Z",
     "iopub.status.idle": "2025-09-25T12:19:12.837892Z",
     "shell.execute_reply": "2025-09-25T12:19:12.836732Z"
    },
    "papermill": {
     "duration": 0.031268,
     "end_time": "2025-09-25T12:19:12.839797",
     "exception": false,
     "start_time": "2025-09-25T12:19:12.808529",
     "status": "completed"
    },
    "tags": []
   },
   "outputs": [
    {
     "data": {
      "text/plain": [
       "hotel\n",
       "City Hotel      0.078621\n",
       "Resort Hotel    0.103516\n",
       "Name: previous_cancellations, dtype: float64"
      ]
     },
     "execution_count": 17,
     "metadata": {},
     "output_type": "execute_result"
    }
   ],
   "source": [
    "df.groupby('hotel')['previous_cancellations'].mean()\n"
   ]
  },
  {
   "cell_type": "markdown",
   "id": "137c5c80",
   "metadata": {
    "papermill": {
     "duration": 0.011168,
     "end_time": "2025-09-25T12:19:12.862198",
     "exception": false,
     "start_time": "2025-09-25T12:19:12.851030",
     "status": "completed"
    },
    "tags": []
   },
   "source": [
    "**Q6-Trend of ADR over the years**"
   ]
  },
  {
   "cell_type": "code",
   "execution_count": 18,
   "id": "b91332f8",
   "metadata": {
    "execution": {
     "iopub.execute_input": "2025-09-25T12:19:12.886652Z",
     "iopub.status.busy": "2025-09-25T12:19:12.886233Z",
     "iopub.status.idle": "2025-09-25T12:19:13.126663Z",
     "shell.execute_reply": "2025-09-25T12:19:13.125681Z"
    },
    "papermill": {
     "duration": 0.254205,
     "end_time": "2025-09-25T12:19:13.128496",
     "exception": false,
     "start_time": "2025-09-25T12:19:12.874291",
     "status": "completed"
    },
    "tags": []
   },
   "outputs": [
    {
     "data": {
      "text/plain": [
       "<Axes: title={'center': 'Avg ADR by year'}, xlabel='arrival_date_year'>"
      ]
     },
     "execution_count": 18,
     "metadata": {},
     "output_type": "execute_result"
    },
    {
     "data": {
      "image/png": "[encoded data removed]",
      "text/plain": [
       "<Figure size 640x480 with 1 Axes>"
      ]
     },
     "metadata": {},
     "output_type": "display_data"
    }
   ],
   "source": [
    "df.groupby('arrival_date_year')['adr'].mean().plot.line(title = \"Avg ADR by year\")"
   ]
  },
  {
   "cell_type": "markdown",
   "id": "05bf781c",
   "metadata": {
    "papermill": {
     "duration": 0.011202,
     "end_time": "2025-09-25T12:19:13.151334",
     "exception": false,
     "start_time": "2025-09-25T12:19:13.140132",
     "status": "completed"
    },
    "tags": []
   },
   "source": [
    "**Q7-Which month has highest revenue?**"
   ]
  },
  {
   "cell_type": "code",
   "execution_count": 19,
   "id": "14e7013c",
   "metadata": {
    "execution": {
     "iopub.execute_input": "2025-09-25T12:19:13.176958Z",
     "iopub.status.busy": "2025-09-25T12:19:13.176611Z",
     "iopub.status.idle": "2025-09-25T12:19:13.488877Z",
     "shell.execute_reply": "2025-09-25T12:19:13.487404Z"
    },
    "papermill": {
     "duration": 0.327267,
     "end_time": "2025-09-25T12:19:13.490551",
     "exception": false,
     "start_time": "2025-09-25T12:19:13.163284",
     "status": "completed"
    },
    "tags": []
   },
   "outputs": [
    {
     "data": {
      "text/plain": [
       "<Axes: title={'center': 'Monthly Revenue (ADR * nights)'}, xlabel='arrival_date'>"
      ]
     },
     "execution_count": 19,
     "metadata": {},
     "output_type": "execute_result"
    },
    {
     "data": {
      "image/png": "[encoded data removed]",
      "text/plain": [
       "<Figure size 640x480 with 1 Axes>"
      ]
     },
     "metadata": {},
     "output_type": "display_data"
    }
   ],
   "source": [
    "rev_by_month = df.groupby(df['arrival_date'].dt.to_period('M'))['booking_revenue'].sum()\n",
    "rev_by_month.sort_values(ascending=False).head(10)\n",
    "# plot:\n",
    "rev_by_month.plot(linewidth=2, title='Monthly Revenue (ADR * nights)')\n"
   ]
  },
  {
   "cell_type": "markdown",
   "id": "cd2f38ea",
   "metadata": {
    "papermill": {
     "duration": 0.011751,
     "end_time": "2025-09-25T12:19:13.515173",
     "exception": false,
     "start_time": "2025-09-25T12:19:13.503422",
     "status": "completed"
    },
    "tags": []
   },
   "source": [
    "**Q8-Impact of special requests on ADR**"
   ]
  },
  {
   "cell_type": "code",
   "execution_count": 20,
   "id": "66f701ac",
   "metadata": {
    "execution": {
     "iopub.execute_input": "2025-09-25T12:19:13.540883Z",
     "iopub.status.busy": "2025-09-25T12:19:13.540576Z",
     "iopub.status.idle": "2025-09-25T12:19:13.751209Z",
     "shell.execute_reply": "2025-09-25T12:19:13.750198Z"
    },
    "papermill": {
     "duration": 0.225543,
     "end_time": "2025-09-25T12:19:13.752802",
     "exception": false,
     "start_time": "2025-09-25T12:19:13.527259",
     "status": "completed"
    },
    "tags": []
   },
   "outputs": [
    {
     "data": {
      "text/plain": [
       "<Axes: title={'center': 'ADR by special request'}, xlabel='total_of_special_requests'>"
      ]
     },
     "execution_count": 20,
     "metadata": {},
     "output_type": "execute_result"
    },
    {
     "data": {
      "image/png": "[encoded data removed]",
      "text/plain": [
       "<Figure size 640x480 with 1 Axes>"
      ]
     },
     "metadata": {},
     "output_type": "display_data"
    }
   ],
   "source": [
    "df.groupby('total_of_special_requests')['adr'].mean().plot.bar(title = 'ADR by special request')"
   ]
  },
  {
   "cell_type": "markdown",
   "id": "c303f8aa",
   "metadata": {
    "papermill": {
     "duration": 0.01311,
     "end_time": "2025-09-25T12:19:13.779418",
     "exception": false,
     "start_time": "2025-09-25T12:19:13.766308",
     "status": "completed"
    },
    "tags": []
   },
   "source": [
    "**Q9-Average stay for repeated vs new guests**"
   ]
  },
  {
   "cell_type": "code",
   "execution_count": 21,
   "id": "30cfb7ae",
   "metadata": {
    "execution": {
     "iopub.execute_input": "2025-09-25T12:19:13.806259Z",
     "iopub.status.busy": "2025-09-25T12:19:13.805860Z",
     "iopub.status.idle": "2025-09-25T12:19:13.821066Z",
     "shell.execute_reply": "2025-09-25T12:19:13.819658Z"
    },
    "papermill": {
     "duration": 0.03121,
     "end_time": "2025-09-25T12:19:13.823208",
     "exception": false,
     "start_time": "2025-09-25T12:19:13.791998",
     "status": "completed"
    },
    "tags": []
   },
   "outputs": [
    {
     "data": {
      "text/html": [
       "<div>\n",
       "<style scoped>\n",
       "    .dataframe tbody tr th:only-of-type {\n",
       "        vertical-align: middle;\n",
       "    }\n",
       "\n",
       "    .dataframe tbody tr th {\n",
       "        vertical-align: top;\n",
       "    }\n",
       "\n",
       "    .dataframe thead th {\n",
       "        text-align: right;\n",
       "    }\n",
       "</style>\n",
       "<table border=\"1\" class=\"dataframe\">\n",
       "  <thead>\n",
       "    <tr style=\"text-align: right;\">\n",
       "      <th></th>\n",
       "      <th>total_nights</th>\n",
       "    </tr>\n",
       "    <tr>\n",
       "      <th>is_repeated_guest</th>\n",
       "      <th></th>\n",
       "    </tr>\n",
       "  </thead>\n",
       "  <tbody>\n",
       "    <tr>\n",
       "      <th>0</th>\n",
       "      <td>3.495756</td>\n",
       "    </tr>\n",
       "    <tr>\n",
       "      <th>1</th>\n",
       "      <td>2.128323</td>\n",
       "    </tr>\n",
       "  </tbody>\n",
       "</table>\n",
       "</div>"
      ],
      "text/plain": [
       "                   total_nights\n",
       "is_repeated_guest              \n",
       "0                      3.495756\n",
       "1                      2.128323"
      ]
     },
     "execution_count": 21,
     "metadata": {},
     "output_type": "execute_result"
    }
   ],
   "source": [
    "df.groupby('is_repeated_guest')[['total_nights']].mean()"
   ]
  },
  {
   "cell_type": "markdown",
   "id": "722a95c1",
   "metadata": {
    "papermill": {
     "duration": 0.014205,
     "end_time": "2025-09-25T12:19:13.851766",
     "exception": false,
     "start_time": "2025-09-25T12:19:13.837561",
     "status": "completed"
    },
    "tags": []
   },
   "source": [
    "**Q10-Most booked room types**"
   ]
  },
  {
   "cell_type": "code",
   "execution_count": 22,
   "id": "94b64504",
   "metadata": {
    "execution": {
     "iopub.execute_input": "2025-09-25T12:19:13.878643Z",
     "iopub.status.busy": "2025-09-25T12:19:13.878330Z",
     "iopub.status.idle": "2025-09-25T12:19:13.893728Z",
     "shell.execute_reply": "2025-09-25T12:19:13.892483Z"
    },
    "papermill": {
     "duration": 0.030835,
     "end_time": "2025-09-25T12:19:13.895552",
     "exception": false,
     "start_time": "2025-09-25T12:19:13.864717",
     "status": "completed"
    },
    "tags": []
   },
   "outputs": [
    {
     "data": {
      "text/plain": [
       "reserved_room_type\n",
       "A    84573\n",
       "D    19005\n",
       "E     6423\n",
       "F     2824\n",
       "G     2006\n",
       "B     1085\n",
       "C      913\n",
       "H      595\n",
       "L        6\n",
       "Name: count, dtype: int64"
      ]
     },
     "execution_count": 22,
     "metadata": {},
     "output_type": "execute_result"
    }
   ],
   "source": [
    "df['reserved_room_type'].value_counts().head(10)"
   ]
  },
  {
   "cell_type": "markdown",
   "id": "c4111e25",
   "metadata": {
    "papermill": {
     "duration": 0.012997,
     "end_time": "2025-09-25T12:19:13.921529",
     "exception": false,
     "start_time": "2025-09-25T12:19:13.908532",
     "status": "completed"
    },
    "tags": []
   },
   "source": [
    "**Advance_level_question**"
   ]
  },
  {
   "cell_type": "markdown",
   "id": "3eb3157e",
   "metadata": {
    "papermill": {
     "duration": 0.012589,
     "end_time": "2025-09-25T12:19:13.947107",
     "exception": false,
     "start_time": "2025-09-25T12:19:13.934518",
     "status": "completed"
    },
    "tags": []
   },
   "source": [
    "**Q1-Time / Seasonality analysis (cancellations and ADR)**"
   ]
  },
  {
   "cell_type": "code",
   "execution_count": 23,
   "id": "661cf5d7",
   "metadata": {
    "execution": {
     "iopub.execute_input": "2025-09-25T12:19:13.974541Z",
     "iopub.status.busy": "2025-09-25T12:19:13.974175Z",
     "iopub.status.idle": "2025-09-25T12:19:14.016175Z",
     "shell.execute_reply": "2025-09-25T12:19:14.014993Z"
    },
    "papermill": {
     "duration": 0.057999,
     "end_time": "2025-09-25T12:19:14.018125",
     "exception": false,
     "start_time": "2025-09-25T12:19:13.960126",
     "status": "completed"
    },
    "tags": []
   },
   "outputs": [
    {
     "data": {
      "text/html": [
       "<div>\n",
       "<style scoped>\n",
       "    .dataframe tbody tr th:only-of-type {\n",
       "        vertical-align: middle;\n",
       "    }\n",
       "\n",
       "    .dataframe tbody tr th {\n",
       "        vertical-align: top;\n",
       "    }\n",
       "\n",
       "    .dataframe thead th {\n",
       "        text-align: right;\n",
       "    }\n",
       "</style>\n",
       "<table border=\"1\" class=\"dataframe\">\n",
       "  <thead>\n",
       "    <tr style=\"text-align: right;\">\n",
       "      <th></th>\n",
       "      <th>cancellations</th>\n",
       "      <th>revenue</th>\n",
       "      <th>avg_adr</th>\n",
       "    </tr>\n",
       "    <tr>\n",
       "      <th>arrival_date</th>\n",
       "      <th></th>\n",
       "      <th></th>\n",
       "      <th></th>\n",
       "    </tr>\n",
       "  </thead>\n",
       "  <tbody>\n",
       "    <tr>\n",
       "      <th>2015-07</th>\n",
       "      <td>0.462049</td>\n",
       "      <td>1146861.53</td>\n",
       "      <td>100.069293</td>\n",
       "    </tr>\n",
       "    <tr>\n",
       "      <th>2015-08</th>\n",
       "      <td>0.420137</td>\n",
       "      <td>1698555.34</td>\n",
       "      <td>108.575148</td>\n",
       "    </tr>\n",
       "    <tr>\n",
       "      <th>2015-09</th>\n",
       "      <td>0.414055</td>\n",
       "      <td>1666155.39</td>\n",
       "      <td>96.806277</td>\n",
       "    </tr>\n",
       "    <tr>\n",
       "      <th>2015-10</th>\n",
       "      <td>0.353441</td>\n",
       "      <td>1170206.08</td>\n",
       "      <td>81.070612</td>\n",
       "    </tr>\n",
       "    <tr>\n",
       "      <th>2015-11</th>\n",
       "      <td>0.211522</td>\n",
       "      <td>462989.38</td>\n",
       "      <td>62.338518</td>\n",
       "    </tr>\n",
       "    <tr>\n",
       "      <th>2015-12</th>\n",
       "      <td>0.345259</td>\n",
       "      <td>673348.84</td>\n",
       "      <td>77.392268</td>\n",
       "    </tr>\n",
       "    <tr>\n",
       "      <th>2016-01</th>\n",
       "      <td>0.251947</td>\n",
       "      <td>403694.85</td>\n",
       "      <td>66.696148</td>\n",
       "    </tr>\n",
       "    <tr>\n",
       "      <th>2016-02</th>\n",
       "      <td>0.347120</td>\n",
       "      <td>788225.29</td>\n",
       "      <td>71.405217</td>\n",
       "    </tr>\n",
       "    <tr>\n",
       "      <th>2016-03</th>\n",
       "      <td>0.309559</td>\n",
       "      <td>1226927.65</td>\n",
       "      <td>80.487535</td>\n",
       "    </tr>\n",
       "    <tr>\n",
       "      <th>2016-04</th>\n",
       "      <td>0.383838</td>\n",
       "      <td>1522984.13</td>\n",
       "      <td>90.282810</td>\n",
       "    </tr>\n",
       "    <tr>\n",
       "      <th>2016-05</th>\n",
       "      <td>0.355320</td>\n",
       "      <td>1655739.66</td>\n",
       "      <td>98.393011</td>\n",
       "    </tr>\n",
       "    <tr>\n",
       "      <th>2016-06</th>\n",
       "      <td>0.400230</td>\n",
       "      <td>1898484.79</td>\n",
       "      <td>108.307624</td>\n",
       "    </tr>\n",
       "    <tr>\n",
       "      <th>2016-07</th>\n",
       "      <td>0.330375</td>\n",
       "      <td>2307893.04</td>\n",
       "      <td>127.294276</td>\n",
       "    </tr>\n",
       "    <tr>\n",
       "      <th>2016-08</th>\n",
       "      <td>0.362749</td>\n",
       "      <td>2897535.56</td>\n",
       "      <td>144.117584</td>\n",
       "    </tr>\n",
       "    <tr>\n",
       "      <th>2016-09</th>\n",
       "      <td>0.377761</td>\n",
       "      <td>2065761.79</td>\n",
       "      <td>115.866559</td>\n",
       "    </tr>\n",
       "    <tr>\n",
       "      <th>2016-10</th>\n",
       "      <td>0.410156</td>\n",
       "      <td>1839343.42</td>\n",
       "      <td>96.638568</td>\n",
       "    </tr>\n",
       "    <tr>\n",
       "      <th>2016-11</th>\n",
       "      <td>0.373025</td>\n",
       "      <td>1137167.16</td>\n",
       "      <td>82.346045</td>\n",
       "    </tr>\n",
       "    <tr>\n",
       "      <th>2016-12</th>\n",
       "      <td>0.369092</td>\n",
       "      <td>1126843.86</td>\n",
       "      <td>88.526062</td>\n",
       "    </tr>\n",
       "    <tr>\n",
       "      <th>2017-01</th>\n",
       "      <td>0.344113</td>\n",
       "      <td>869382.58</td>\n",
       "      <td>75.061943</td>\n",
       "    </tr>\n",
       "    <tr>\n",
       "      <th>2017-02</th>\n",
       "      <td>0.329188</td>\n",
       "      <td>1030747.41</td>\n",
       "      <td>78.247713</td>\n",
       "    </tr>\n",
       "    <tr>\n",
       "      <th>2017-03</th>\n",
       "      <td>0.340677</td>\n",
       "      <td>1412357.24</td>\n",
       "      <td>83.384823</td>\n",
       "    </tr>\n",
       "    <tr>\n",
       "      <th>2017-04</th>\n",
       "      <td>0.437311</td>\n",
       "      <td>2187482.01</td>\n",
       "      <td>112.443496</td>\n",
       "    </tr>\n",
       "    <tr>\n",
       "      <th>2017-05</th>\n",
       "      <td>0.440743</td>\n",
       "      <td>2452386.24</td>\n",
       "      <td>120.684423</td>\n",
       "    </tr>\n",
       "    <tr>\n",
       "      <th>2017-06</th>\n",
       "      <td>0.434728</td>\n",
       "      <td>2600902.49</td>\n",
       "      <td>126.994485</td>\n",
       "    </tr>\n",
       "    <tr>\n",
       "      <th>2017-07</th>\n",
       "      <td>0.375712</td>\n",
       "      <td>3132959.07</td>\n",
       "      <td>144.204871</td>\n",
       "    </tr>\n",
       "    <tr>\n",
       "      <th>2017-08</th>\n",
       "      <td>0.370227</td>\n",
       "      <td>3348626.53</td>\n",
       "      <td>165.187507</td>\n",
       "    </tr>\n",
       "  </tbody>\n",
       "</table>\n",
       "</div>"
      ],
      "text/plain": [
       "              cancellations     revenue     avg_adr\n",
       "arrival_date                                       \n",
       "2015-07            0.462049  1146861.53  100.069293\n",
       "2015-08            0.420137  1698555.34  108.575148\n",
       "2015-09            0.414055  1666155.39   96.806277\n",
       "2015-10            0.353441  1170206.08   81.070612\n",
       "2015-11            0.211522   462989.38   62.338518\n",
       "2015-12            0.345259   673348.84   77.392268\n",
       "2016-01            0.251947   403694.85   66.696148\n",
       "2016-02            0.347120   788225.29   71.405217\n",
       "2016-03            0.309559  1226927.65   80.487535\n",
       "2016-04            0.383838  1522984.13   90.282810\n",
       "2016-05            0.355320  1655739.66   98.393011\n",
       "2016-06            0.400230  1898484.79  108.307624\n",
       "2016-07            0.330375  2307893.04  127.294276\n",
       "2016-08            0.362749  2897535.56  144.117584\n",
       "2016-09            0.377761  2065761.79  115.866559\n",
       "2016-10            0.410156  1839343.42   96.638568\n",
       "2016-11            0.373025  1137167.16   82.346045\n",
       "2016-12            0.369092  1126843.86   88.526062\n",
       "2017-01            0.344113   869382.58   75.061943\n",
       "2017-02            0.329188  1030747.41   78.247713\n",
       "2017-03            0.340677  1412357.24   83.384823\n",
       "2017-04            0.437311  2187482.01  112.443496\n",
       "2017-05            0.440743  2452386.24  120.684423\n",
       "2017-06            0.434728  2600902.49  126.994485\n",
       "2017-07            0.375712  3132959.07  144.204871\n",
       "2017-08            0.370227  3348626.53  165.187507"
      ]
     },
     "execution_count": 23,
     "metadata": {},
     "output_type": "execute_result"
    }
   ],
   "source": [
    "monthly = df.groupby(df['arrival_date'].dt.to_period('M')).agg(\n",
    "    cancellations = ('is_canceled','mean'),\n",
    "    revenue = ('booking_revenue','sum'),\n",
    "    avg_adr = ('adr','mean')\n",
    ")\n",
    "monthly"
   ]
  }
 ],
 "metadata": {
  "kaggle": {
   "accelerator": "none",
   "dataSources": [
    {
     "datasetId": 511638,
     "sourceId": 944030,
     "sourceType": "datasetVersion"
    }
   ],
   "dockerImageVersionId": 31089,
   "isGpuEnabled": false,
   "isInternetEnabled": true,
   "language": "python",
   "sourceType": "notebook"
  },
  "kernelspec": {
   "display_name": "Python 3",
   "language": "python",
   "name": "python3"
  },
  "language_info": {
   "codemirror_mode": {
    "name": "ipython",
    "version": 3
   },
   "file_extension": ".py",
   "mimetype": "text/x-python",
   "name": "python",
   "nbconvert_exporter": "python",
   "pygments_lexer": "ipython3",
   "version": "3.11.13"
  },
  "papermill": {
   "default_parameters": {},
   "duration": 13.726493,
   "end_time": "2025-09-25T12:19:14.652907",
   "environment_variables": {},
   "exception": null,
   "input_path": "__notebook__.ipynb",
   "output_path": "__notebook__.ipynb",
   "parameters": {},
   "start_time": "2025-09-25T12:19:00.926414",
   "version": "2.6.0"
  }
 },
 "nbformat": 4,
 "nbformat_minor": 5
}
